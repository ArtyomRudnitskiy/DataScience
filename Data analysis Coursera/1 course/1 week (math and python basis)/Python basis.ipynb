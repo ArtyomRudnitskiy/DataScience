{
 "cells": [
  {
   "cell_type": "markdown",
   "id": "50dd63cb",
   "metadata": {},
   "source": [
    "# Python basics"
   ]
  },
  {
   "cell_type": "markdown",
   "id": "0b21eb57",
   "metadata": {},
   "source": [
    "## Necessary libs"
   ]
  },
  {
   "cell_type": "code",
   "execution_count": 2,
   "id": "82ee9415",
   "metadata": {},
   "outputs": [
    {
     "data": {
      "text/plain": [
       "'1.21.5'"
      ]
     },
     "execution_count": 2,
     "metadata": {},
     "output_type": "execute_result"
    }
   ],
   "source": [
    "import numpy\n",
    "numpy.__version__"
   ]
  },
  {
   "cell_type": "code",
   "execution_count": 8,
   "id": "1389fc31",
   "metadata": {
    "scrolled": true
   },
   "outputs": [
    {
     "data": {
      "text/plain": [
       "'1.7.3'"
      ]
     },
     "execution_count": 8,
     "metadata": {},
     "output_type": "execute_result"
    }
   ],
   "source": [
    "import scipy\n",
    "scipy.__version__"
   ]
  },
  {
   "cell_type": "code",
   "execution_count": 10,
   "id": "4f96e861",
   "metadata": {},
   "outputs": [
    {
     "data": {
      "text/plain": [
       "'1.4.2'"
      ]
     },
     "execution_count": 10,
     "metadata": {},
     "output_type": "execute_result"
    }
   ],
   "source": [
    "import pandas\n",
    "pandas.__version__"
   ]
  },
  {
   "cell_type": "code",
   "execution_count": 11,
   "id": "41b12603",
   "metadata": {},
   "outputs": [
    {
     "data": {
      "text/plain": [
       "'3.5.1'"
      ]
     },
     "execution_count": 11,
     "metadata": {},
     "output_type": "execute_result"
    }
   ],
   "source": [
    "import matplotlib\n",
    "matplotlib.__version__"
   ]
  },
  {
   "cell_type": "markdown",
   "id": "cbb49900",
   "metadata": {},
   "source": [
    "## Data types"
   ]
  },
  {
   "cell_type": "markdown",
   "id": "5abffb5b",
   "metadata": {},
   "source": [
    "### Set is faster than list"
   ]
  },
  {
   "cell_type": "code",
   "execution_count": 33,
   "id": "80c11f1c",
   "metadata": {},
   "outputs": [],
   "source": [
    "a = range(10000)\n",
    "b = range(10000)\n",
    "b = set(b)"
   ]
  },
  {
   "cell_type": "code",
   "execution_count": 34,
   "id": "83b1443a",
   "metadata": {},
   "outputs": [
    {
     "name": "stdout",
     "output_type": "stream",
     "text": [
      "True\n",
      "CPU times: total: 0 ns\n",
      "Wall time: 0 ns\n"
     ]
    }
   ],
   "source": [
    "%%time\n",
    "print(9998 in a)"
   ]
  },
  {
   "cell_type": "code",
   "execution_count": 35,
   "id": "db7d37e5",
   "metadata": {},
   "outputs": [
    {
     "name": "stdout",
     "output_type": "stream",
     "text": [
      "True\n",
      "CPU times: total: 0 ns\n",
      "Wall time: 998 µs\n"
     ]
    }
   ],
   "source": [
    "%%time\n",
    "print(9998 in b)"
   ]
  },
  {
   "cell_type": "markdown",
   "id": "0aebaf54",
   "metadata": {},
   "source": [
    "### Study dicts"
   ]
  },
  {
   "cell_type": "code",
   "execution_count": 37,
   "id": "5fc94bfa",
   "metadata": {},
   "outputs": [
    {
     "name": "stdout",
     "output_type": "stream",
     "text": [
      "{'I': 2, 'an': 1}\n"
     ]
    }
   ],
   "source": [
    "words_frequencies = dict()  # keys - only immutable types\n",
    "words_frequencies['I'] = 1  # add an element\n",
    "words_frequencies['an'] = 1\n",
    "words_frequencies['I'] += 1  # editing an element\n",
    "\n",
    "print(words_frequencies)  "
   ]
  },
  {
   "cell_type": "markdown",
   "id": "32d7eb7d",
   "metadata": {},
   "source": [
    "## Cycles, generators "
   ]
  },
  {
   "cell_type": "code",
   "execution_count": 3,
   "id": "cc1a7da5",
   "metadata": {},
   "outputs": [
    {
     "name": "stdout",
     "output_type": "stream",
     "text": [
      "range(0, 5)\n"
     ]
    }
   ],
   "source": [
    "print(range(5))  # there is no xrange in python3 "
   ]
  },
  {
   "cell_type": "code",
   "execution_count": 8,
   "id": "b85fbbd9",
   "metadata": {},
   "outputs": [
    {
     "name": "stdout",
     "output_type": "stream",
     "text": [
      "[4, 16, 36, 64, 100]\n"
     ]
    }
   ],
   "source": [
    "print([x**2 for x in range(1, 11) if x%2 == 0])  # generator generates a list using a loop"
   ]
  },
  {
   "cell_type": "code",
   "execution_count": 2,
   "id": "a7ba3509",
   "metadata": {},
   "outputs": [
    {
     "name": "stdout",
     "output_type": "stream",
     "text": [
      "<class 'generator'>\n",
      "4\n",
      "16\n",
      "36\n",
      "64\n",
      "100\n"
     ]
    }
   ],
   "source": [
    "gen = (x**2 for x in range(1, 11) if x%2 == 0)\n",
    "print(type(gen))\n",
    "\n",
    "# we can iterate through the generator only once\n",
    "for i in gen:\n",
    "    print(i)\n",
    "    \n",
    "# it won't work    \n",
    "for i in gen:\n",
    "    print(i)\n",
    "    print('second time')"
   ]
  },
  {
   "cell_type": "markdown",
   "id": "99cfd632",
   "metadata": {},
   "source": [
    "## Let's write our own range"
   ]
  },
  {
   "cell_type": "code",
   "execution_count": 21,
   "id": "1fa3cce2",
   "metadata": {},
   "outputs": [],
   "source": [
    "def myrange(a, b):\n",
    "    if a < b:\n",
    "        res = []\n",
    "        s = a\n",
    "        while s != b:\n",
    "            res.append(s)\n",
    "            s += 1\n",
    "        return res"
   ]
  },
  {
   "cell_type": "code",
   "execution_count": 23,
   "id": "4954653e",
   "metadata": {},
   "outputs": [
    {
     "name": "stdout",
     "output_type": "stream",
     "text": [
      "2\n",
      "3\n",
      "4\n",
      "Variable a: 2\n"
     ]
    }
   ],
   "source": [
    "a = 2\n",
    "\n",
    "for i in myrange(a, 5):\n",
    "    print(i)\n",
    "    \n",
    "print('Variable a: ' + str(a))"
   ]
  },
  {
   "cell_type": "markdown",
   "id": "e74aa893",
   "metadata": {},
   "source": [
    "## About map and lambda"
   ]
  },
  {
   "cell_type": "code",
   "execution_count": 1,
   "id": "4fcc6ee3",
   "metadata": {},
   "outputs": [
    {
     "name": "stdout",
     "output_type": "stream",
     "text": [
      "With generator:\n",
      "0 1 4 9 16 \n",
      "With map:\n",
      "0 1 4 9 16 \n",
      "With lambda:\n",
      "0 1 4 9 16 "
     ]
    }
   ],
   "source": [
    "# with generator we can do\n",
    "print('With generator:')\n",
    "\n",
    "squares = (x**2 for x in range(5))\n",
    "\n",
    "for i in squares:\n",
    "    print(i, end=' ')\n",
    "\n",
    "    \n",
    "# but we also can do the same with map function\n",
    "def sq(x):\n",
    "    return x**2\n",
    "\n",
    "print('\\nWith map:')\n",
    "\n",
    "squares_m = map(sq, range(5))\n",
    "\n",
    "for i in squares_m:\n",
    "    print(i, end=' ')\n",
    "\n",
    "    \n",
    "# or we can also use lambda function instead of common def funcion\n",
    "print('\\nWith lambda:')\n",
    "\n",
    "squares_m = map(lambda x: x**2, range(5))\n",
    "\n",
    "for i in squares_m:\n",
    "    print(i, end=' ')"
   ]
  },
  {
   "cell_type": "markdown",
   "id": "e9483994",
   "metadata": {},
   "source": [
    "## Writing data to a file"
   ]
  },
  {
   "cell_type": "code",
   "execution_count": 23,
   "id": "10dfb0cb",
   "metadata": {},
   "outputs": [],
   "source": [
    "f = open('data_file.txt', 'w')  # we need to open the file \n",
    "\n",
    "text_to_file = 'hello, world!\\n'\\\n",
    "       'and good bye!\\n'\n",
    "\n",
    "f.write(text_to_file)\n",
    "f.close()  # and then it's necessary to close it "
   ]
  },
  {
   "cell_type": "code",
   "execution_count": 24,
   "id": "8a58a987",
   "metadata": {},
   "outputs": [],
   "source": [
    "f = open('data_file.txt', 'a')  # we also can add data to file\n",
    "\n",
    "text_to_file_2 = 'additional information\\n'\n",
    "\n",
    "f.write(text_to_file_2)\n",
    "f.close()"
   ]
  },
  {
   "cell_type": "markdown",
   "id": "5ef87f4c",
   "metadata": {},
   "source": [
    "## Opening files"
   ]
  },
  {
   "cell_type": "code",
   "execution_count": 27,
   "id": "40d45b14",
   "metadata": {},
   "outputs": [
    {
     "name": "stdout",
     "output_type": "stream",
     "text": [
      "hello, world!\n",
      "and good bye!\n",
      "additional information\n"
     ]
    }
   ],
   "source": [
    "f = open('data_file.txt', 'r')  # let's see what's in our file\n",
    "\n",
    "for line in f.readlines():\n",
    "    print(line, end='')\n",
    "    \n",
    "f.close()"
   ]
  },
  {
   "cell_type": "markdown",
   "id": "ead2cd74",
   "metadata": {},
   "source": [
    "## Writing several lines in file"
   ]
  },
  {
   "cell_type": "code",
   "execution_count": 36,
   "id": "cc32cdf2",
   "metadata": {},
   "outputs": [],
   "source": [
    "digits = map(str, range(1, 11))\n",
    "\n",
    "with open('data_file_2.txt', 'w') as f:\n",
    "    f.writelines(digit + '\\n' for digit in digits)"
   ]
  },
  {
   "cell_type": "code",
   "execution_count": 40,
   "id": "1582b2bf",
   "metadata": {},
   "outputs": [
    {
     "name": "stdout",
     "output_type": "stream",
     "text": [
      "('list', 2)\n"
     ]
    }
   ],
   "source": [
    "dict"
   ]
  }
 ],
 "metadata": {
  "kernelspec": {
   "display_name": "Python 3 (ipykernel)",
   "language": "python",
   "name": "python3"
  },
  "language_info": {
   "codemirror_mode": {
    "name": "ipython",
    "version": 3
   },
   "file_extension": ".py",
   "mimetype": "text/x-python",
   "name": "python",
   "nbconvert_exporter": "python",
   "pygments_lexer": "ipython3",
   "version": "3.9.13"
  }
 },
 "nbformat": 4,
 "nbformat_minor": 5
}
