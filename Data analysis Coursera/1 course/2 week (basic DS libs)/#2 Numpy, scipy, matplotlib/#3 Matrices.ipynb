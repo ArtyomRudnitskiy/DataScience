{
 "cells": [
  {
   "cell_type": "markdown",
   "id": "c1de0227",
   "metadata": {},
   "source": [
    "# Матрицы numpy"
   ]
  },
  {
   "cell_type": "markdown",
   "id": "2ee4580e",
   "metadata": {},
   "source": [
    "## Создание"
   ]
  },
  {
   "cell_type": "code",
   "execution_count": 3,
   "id": "adafed4a",
   "metadata": {},
   "outputs": [
    {
     "name": "stdout",
     "output_type": "stream",
     "text": [
      "[[1 2 3]\n",
      " [4 5 6]\n",
      " [7 8 9]]\n",
      "\n",
      "[ 0  2  4  6  8 10 12 14 16 18 20 22]\n",
      "\n",
      "[[ 0  2  4  6]\n",
      " [ 8 10 12 14]\n",
      " [16 18 20 22]]\n",
      "\n",
      "[[1. 0.]\n",
      " [0. 1.]\n",
      " [0. 0.]]\n",
      "\n",
      "[[1. 1. 1.]\n",
      " [1. 1. 1.]\n",
      " [1. 1. 1.]]\n",
      "\n",
      "[[0. 0. 0.]\n",
      " [0. 0. 0.]\n",
      " [0. 0. 0.]]\n"
     ]
    }
   ],
   "source": [
    "import numpy as np\n",
    "\n",
    "# в numpy матрицы могут содержать только один тип данных\n",
    "# размерность массива задается не двумя аргументами функции, а одним — кортежем!\n",
    "\n",
    "# 1 способ\n",
    "a = np.array([[1,2,3], [4,5,6], [7,8,9]])\n",
    "\n",
    "# 2 способ\n",
    "v = np.arange(0, 24, 2)  # вектор с одной строкой (от 0 до 24 с шагом 2)\n",
    "d = v.reshape((3, 4))  # теперь матрица 3х4\n",
    "\n",
    "# единичная матрица 3х2\n",
    "I = np.eye(3, 2)  # some exception to the tuple rule\n",
    "\n",
    "# матрица из единиц\n",
    "ones = np.ones((3, 3))\n",
    "\n",
    "# матрица из нулей\n",
    "zeros = np.zeros((3, 3))\n",
    "\n",
    "print(a, v, d, I, ones, zeros, sep='\\n\\n')"
   ]
  },
  {
   "cell_type": "markdown",
   "id": "0d804b1d",
   "metadata": {},
   "source": [
    "## Индексирование"
   ]
  },
  {
   "cell_type": "code",
   "execution_count": 20,
   "id": "667cd582",
   "metadata": {},
   "outputs": [
    {
     "name": "stdout",
     "output_type": "stream",
     "text": [
      "Второй элемент третьей строки матрицы: 18\n",
      "Вторая строка матрицы d:\n",
      " [ 8 10 12 14]\n",
      "Четвертый столбец матрицы d:\n",
      " [ 6 14 22]\n",
      "Элементы матрицы d с координатами (1, 2) и (0, 3):\n",
      " [12  6]\n"
     ]
    }
   ],
   "source": [
    "print(\"Второй элемент третьей строки матрицы:\", d[2, 1])\n",
    "print(\"Вторая строка матрицы d:\\n\", d[1, :])\n",
    "print(\"Четвертый столбец матрицы d:\\n\", d[:, 3])\n",
    "\n",
    "# d[1, 0], d[2, 3] эквивалент: d[[1, 0], [2, 3]]\n",
    "print(\"Элементы матрицы d с координатами (1, 2) и (0, 3):\\n\", d[[1, 0], [2, 3]])"
   ]
  },
  {
   "cell_type": "markdown",
   "id": "99fefa05",
   "metadata": {},
   "source": [
    "## Умножение"
   ]
  },
  {
   "cell_type": "markdown",
   "id": "f17eb9b1",
   "metadata": {},
   "source": [
    "### Матричное умножение"
   ]
  },
  {
   "cell_type": "code",
   "execution_count": 21,
   "id": "75f16223",
   "metadata": {},
   "outputs": [
    {
     "name": "stdout",
     "output_type": "stream",
     "text": [
      "Матрица A:\n",
      " [[1 0]\n",
      " [0 1]]\n",
      "Матрица B:\n",
      " [[4 1]\n",
      " [2 2]]\n",
      "Результат умножения функцией:\n",
      " [[4 1]\n",
      " [2 2]]\n"
     ]
    }
   ],
   "source": [
    "a = np.array([[1, 0], [0, 1]])  # матрица 2х2\n",
    "b = np.array([[4, 1], [2, 2]])  # матрица 2х2\n",
    "r1 = np.dot(a, b)  # получим матрицу 2х2\n",
    "\n",
    "print(\"Матрица A:\\n\", a)\n",
    "print(\"Матрица B:\\n\", b)\n",
    "print(\"Результат умножения функцией:\\n\", r1)"
   ]
  },
  {
   "cell_type": "markdown",
   "id": "f8849a63",
   "metadata": {},
   "source": [
    "### Матрица на вектор"
   ]
  },
  {
   "cell_type": "code",
   "execution_count": 23,
   "id": "c9073a51",
   "metadata": {},
   "outputs": [
    {
     "name": "stdout",
     "output_type": "stream",
     "text": [
      "Матрица:\n",
      " [[4 1]\n",
      " [2 2]]\n",
      "Вектор:\n",
      " [1 2]\n",
      "Результат умножения:\n",
      " [6 6]\n"
     ]
    }
   ],
   "source": [
    "c = np.array([1, 2])\n",
    "r2 = np.dot(b, c)  # матричное умножение\n",
    "\n",
    "print(\"Матрица:\\n\", b)\n",
    "print(\"Вектор:\\n\", c)\n",
    "print(\"Результат умножения:\\n\", r2)"
   ]
  },
  {
   "cell_type": "code",
   "execution_count": 27,
   "id": "5d1605ac",
   "metadata": {},
   "outputs": [
    {
     "name": "stdout",
     "output_type": "stream",
     "text": [
      "Матрица A:\n",
      " [[1 0]\n",
      " [0 1]]\n",
      "Матрица B:\n",
      " [[4 1]\n",
      " [2 2]]\n",
      "Результат покоординатного умножения через операцию *:\n",
      " [[4 0]\n",
      " [0 2]]\n"
     ]
    }
   ],
   "source": [
    "r3 = a * b  # покоординатное умножение\n",
    "print(\"Матрица A:\\n\", a)\n",
    "print(\"Матрица B:\\n\", b)\n",
    "print(\"Результат покоординатного умножения через операцию *:\\n\", r3)"
   ]
  },
  {
   "cell_type": "markdown",
   "id": "db7aa63d",
   "metadata": {},
   "source": [
    "### Транспонирование"
   ]
  },
  {
   "cell_type": "code",
   "execution_count": 28,
   "id": "70bd7d17",
   "metadata": {},
   "outputs": [
    {
     "name": "stdout",
     "output_type": "stream",
     "text": [
      "Матрица:\n",
      " [[1 2]\n",
      " [3 4]]\n",
      "Транспонирование функцией:\n",
      " [[1 3]\n",
      " [2 4]]\n",
      "Транспонирование методом:\n",
      " [[1 3]\n",
      " [2 4]]\n"
     ]
    }
   ],
   "source": [
    "a = np.array([[1, 2], [3, 4]])\n",
    "b = np.transpose(a)\n",
    "c = a.T\n",
    "\n",
    "print(\"Матрица:\\n\", a)\n",
    "print(\"Транспонирование функцией:\\n\", b)\n",
    "print(\"Транспонирование методом:\\n\",  c)"
   ]
  },
  {
   "cell_type": "markdown",
   "id": "b00abd52",
   "metadata": {},
   "source": [
    "### Определитель квадратной матрицы"
   ]
  },
  {
   "cell_type": "code",
   "execution_count": 29,
   "id": "281c0084",
   "metadata": {},
   "outputs": [
    {
     "name": "stdout",
     "output_type": "stream",
     "text": [
      "Матрица:\n",
      " [[1. 2. 1.]\n",
      " [1. 1. 4.]\n",
      " [2. 3. 6.]]\n",
      "Определитель:\n",
      " -1.0\n"
     ]
    }
   ],
   "source": [
    "a = np.array([[1, 2, 1], [1, 1, 4], [2, 3, 6]], dtype=np.float32)\n",
    "det = np.linalg.det(a)\n",
    "\n",
    "print(\"Матрица:\\n\", a)\n",
    "print(\"Определитель:\\n\", det)\n",
    "\n",
    "# в теории напомнили: площадь параллелограмм - определитель 2х2, аналогично параллелепипед - 3х3"
   ]
  },
  {
   "cell_type": "markdown",
   "id": "050c0903",
   "metadata": {},
   "source": [
    "### Ранг матрицы"
   ]
  },
  {
   "cell_type": "code",
   "execution_count": 31,
   "id": "f9444e7a",
   "metadata": {},
   "outputs": [
    {
     "name": "stdout",
     "output_type": "stream",
     "text": [
      "Матрица:\n",
      " [[1 0 0]\n",
      " [0 1 0]\n",
      " [0 0 1]]\n",
      "Ранг матрицы: 3\n"
     ]
    }
   ],
   "source": [
    "# максимальное число линейно независимых строк (столбцов) этой матрицы\n",
    "\n",
    "a = np.array([[1, 0, 0], [0, 1, 0], [0, 0, 1]])\n",
    "rank = np.linalg.matrix_rank(a)\n",
    "\n",
    "print(\"Матрица:\\n\", a)\n",
    "print(\"Ранг матрицы:\", rank)"
   ]
  },
  {
   "cell_type": "markdown",
   "id": "2a86ec73",
   "metadata": {},
   "source": [
    "С помощью вычисления ранга матрицы можно проверять линейную независимость системы векторов.\n",
    "\n",
    "Допустим, у нас есть несколько векторов. Составим из них матрицу, где наши векторы будут являться строками. Понятно, что векторы линейно независимы тогда и только тогда, когда ранг полученной матрицы совпадает с числом векторов. Приведем пример:"
   ]
  },
  {
   "cell_type": "code",
   "execution_count": 32,
   "id": "e045607a",
   "metadata": {},
   "outputs": [
    {
     "name": "stdout",
     "output_type": "stream",
     "text": [
      "True\n"
     ]
    }
   ],
   "source": [
    "a = np.array([1, 2, 3])\n",
    "b = np.array([1, 1, 1])\n",
    "c = np.array([2, 3, 5])\n",
    "m = np.array([a, b, c])\n",
    "\n",
    "print(np.linalg.matrix_rank(m) == m.shape[0])"
   ]
  },
  {
   "cell_type": "markdown",
   "id": "a4e1823b",
   "metadata": {},
   "source": [
    "### СЛАУ"
   ]
  },
  {
   "cell_type": "markdown",
   "id": "a7793981",
   "metadata": {},
   "source": [
    "Системой линейных алгебраических уравнений называется система вида Ax=b. В случае квадратной невырожденной матрицы A решение системы единственно."
   ]
  },
  {
   "cell_type": "code",
   "execution_count": 34,
   "id": "1afef7ff",
   "metadata": {},
   "outputs": [
    {
     "name": "stdout",
     "output_type": "stream",
     "text": [
      "Матрица A:\n",
      " [[3 1]\n",
      " [1 2]]\n",
      "Вектор b:\n",
      " [9 8]\n",
      "Решение системы:\n",
      " [2. 3.]\n",
      "Проверка:\n",
      " [9. 8.]\n"
     ]
    }
   ],
   "source": [
    "a = np.array([[3, 1], [1, 2]])\n",
    "b = np.array([9, 8])\n",
    "x = np.linalg.solve(a, b)\n",
    "\n",
    "print(\"Матрица A:\\n\", a)\n",
    "print(\"Вектор b:\\n\", b)\n",
    "print(\"Решение системы:\\n\", x)\n",
    "print(\"Проверка:\\n\", np.dot(a,x))"
   ]
  },
  {
   "attachments": {
    "image.png": {
     "image/png": "[encoded data removed]"
    }
   },
   "cell_type": "markdown",
   "id": "408db1fe",
   "metadata": {},
   "source": [
    "![image.png](attachment:image.png)"
   ]
  },
  {
   "cell_type": "code",
   "execution_count": 36,
   "id": "aded2df3",
   "metadata": {},
   "outputs": [
    {
     "name": "stdout",
     "output_type": "stream",
     "text": [
      "Матрица A:\n",
      " [[0 1]\n",
      " [1 1]\n",
      " [2 1]\n",
      " [3 1]]\n",
      "Вектор b:\n",
      " [-1.   0.2  0.9  2.1]\n",
      "Псевдорешение системы:\n",
      " [ 1.   -0.95]\n",
      "Проверка:\n",
      " [-0.95  0.05  1.05  2.05]\n"
     ]
    },
    {
     "name": "stderr",
     "output_type": "stream",
     "text": [
      "C:\\Users\\artem\\AppData\\Local\\Temp\\ipykernel_18772\\1716137481.py:3: FutureWarning: `rcond` parameter will change to the default of machine precision times ``max(M, N)`` where M and N are the input matrix dimensions.\n",
      "To use the future default and silence this warning we advise to pass `rcond=None`, to keep using the old, explicitly pass `rcond=-1`.\n",
      "  x, res, r, s = np.linalg.lstsq(a, b)\n"
     ]
    }
   ],
   "source": [
    "a = np.array([[0, 1], [1, 1], [2, 1], [3, 1]])\n",
    "b = np.array([-1, 0.2, 0.9, 2.1])\n",
    "x, res, r, s = np.linalg.lstsq(a, b)\n",
    "\n",
    "print(\"Матрица A:\\n\", a)\n",
    "print(\"Вектор b:\\n\", b)\n",
    "print(\"Псевдорешение системы:\\n\", x)\n",
    "print(\"Проверка:\\n\", np.dot(a, x))"
   ]
  },
  {
   "cell_type": "markdown",
   "id": "d780a52f",
   "metadata": {},
   "source": [
    "### Обратные матрицы (для квадратных невырожденных)"
   ]
  },
  {
   "cell_type": "code",
   "execution_count": 37,
   "id": "e42b53fc",
   "metadata": {},
   "outputs": [
    {
     "name": "stdout",
     "output_type": "stream",
     "text": [
      "Матрица A:\n",
      " [[1. 2. 1.]\n",
      " [1. 1. 4.]\n",
      " [2. 3. 6.]]\n",
      "Обратная матрица к A:\n",
      " [[ 6.  9. -7.]\n",
      " [-2. -4.  3.]\n",
      " [-1. -1.  1.]]\n",
      "Произведение A на обратную должна быть единичной:\n",
      " [[1. 0. 0.]\n",
      " [0. 1. 0.]\n",
      " [0. 0. 1.]]\n"
     ]
    }
   ],
   "source": [
    "a = np.array([[1, 2, 1], [1, 1, 4], [2, 3, 6]], dtype=np.float32)\n",
    "b = np.linalg.inv(a)\n",
    "\n",
    "print(\"Матрица A:\\n\", a)\n",
    "print(\"Обратная матрица к A:\\n\", b)\n",
    "print(\"Произведение A на обратную должна быть единичной:\\n\", a.dot(b))"
   ]
  },
  {
   "cell_type": "markdown",
   "id": "505fad40",
   "metadata": {},
   "source": [
    "### Собственные числа и собственные вектора матрицы (для квадратных)"
   ]
  },
  {
   "cell_type": "markdown",
   "id": "11d22fb0",
   "metadata": {},
   "source": [
    "Собственный вектор матрицы задает направление, вдоль которого соответствующее линейное преобразование действует как сжатие или растяжение.\n",
    "\n",
    "**Собственным вектором** матрицы A называется такой ненулевой вектор x, что для вещественного λ выполняется **Ax=λx** (т.е. вектор после линейного преобразования может или рястянуться, или сжаться, но не поменять направление в пространстве).\n",
    "\n",
    "При этом λ называется **собственным числом** матрицы A."
   ]
  },
  {
   "cell_type": "code",
   "execution_count": 38,
   "id": "0526ac24",
   "metadata": {},
   "outputs": [
    {
     "name": "stdout",
     "output_type": "stream",
     "text": [
      "Матрица A:\n",
      " [[-1 -6]\n",
      " [ 2  6]]\n",
      "Собственные числа:\n",
      " [2. 3.]\n",
      "Собственные векторы:\n",
      " [[-0.89442719  0.83205029]\n",
      " [ 0.4472136  -0.5547002 ]]\n"
     ]
    }
   ],
   "source": [
    "a = np.array([[-1, -6], [2, 6]])\n",
    "w, v = np.linalg.eig(a)\n",
    "\n",
    "print(\"Матрица A:\\n\", a)\n",
    "print(\"Собственные числа:\\n\", w)\n",
    "print(\"Собственные векторы:\\n\", v)"
   ]
  },
  {
   "cell_type": "markdown",
   "id": "bfd44517",
   "metadata": {},
   "source": [
    "В качестве результата эта функция выдает одномерный массив w собственных чисел и двумерный массив v, в котором по столбцам записаны собственные вектора, так что вектор v[:, i] соотвествует собственному числу w[i] (т.е. первому с.ч. соответствует первый столбец и т.д.)."
   ]
  },
  {
   "cell_type": "markdown",
   "id": "0f193624",
   "metadata": {},
   "source": [
    "**Важно**: у вещественной матрицы собственные значения или собственные векторы могут быть комплексными."
   ]
  },
  {
   "cell_type": "markdown",
   "id": "9dfb2b60",
   "metadata": {},
   "source": [
    "### Комплексные числа"
   ]
  },
  {
   "cell_type": "code",
   "execution_count": 44,
   "id": "36ff1fad",
   "metadata": {},
   "outputs": [
    {
     "name": "stdout",
     "output_type": "stream",
     "text": [
      "Комплексное число a:\n",
      " (3+2j)\n",
      "Комплексное число b:\n",
      " 1j\n"
     ]
    },
    {
     "data": {
      "text/plain": [
       "complex"
      ]
     },
     "execution_count": 44,
     "metadata": {},
     "output_type": "execute_result"
    }
   ],
   "source": [
    "a = 3 + 2j\n",
    "b = 1j\n",
    "\n",
    "print(\"Комплексное число a:\\n\", a)\n",
    "print(\"Комплексное число b:\\n\", b)"
   ]
  },
  {
   "cell_type": "markdown",
   "id": "9f159870",
   "metadata": {},
   "source": [
    "#### Арифметические операции с комплексными числами"
   ]
  },
  {
   "cell_type": "code",
   "execution_count": 1,
   "id": "9309359b",
   "metadata": {},
   "outputs": [
    {
     "ename": "NameError",
     "evalue": "name 'a' is not defined",
     "output_type": "error",
     "traceback": [
      "\u001b[1;31m---------------------------------------------------------------------------\u001b[0m",
      "\u001b[1;31mNameError\u001b[0m                                 Traceback (most recent call last)",
      "Input \u001b[1;32mIn [1]\u001b[0m, in \u001b[0;36m<cell line: 1>\u001b[1;34m()\u001b[0m\n\u001b[1;32m----> 1\u001b[0m c \u001b[38;5;241m=\u001b[39m \u001b[43ma\u001b[49m \u001b[38;5;241m*\u001b[39m a\n\u001b[0;32m      2\u001b[0m d \u001b[38;5;241m=\u001b[39m a \u001b[38;5;241m/\u001b[39m (\u001b[38;5;241m4\u001b[39m \u001b[38;5;241m-\u001b[39m \u001b[38;5;241m5\u001b[39mj)\n\u001b[0;32m      4\u001b[0m \u001b[38;5;28mprint\u001b[39m(\u001b[38;5;124m\"\u001b[39m\u001b[38;5;124mКомплексное число c:\u001b[39m\u001b[38;5;130;01m\\n\u001b[39;00m\u001b[38;5;124m\"\u001b[39m, c)\n",
      "\u001b[1;31mNameError\u001b[0m: name 'a' is not defined"
     ]
    }
   ],
   "source": [
    "c = a * a\n",
    "d = a / (4 - 5j)\n",
    "\n",
    "print(\"Комплексное число c:\\n\", c)\n",
    "print(\"Комплексное число d:\\n\", d)"
   ]
  },
  {
   "cell_type": "code",
   "execution_count": 19,
   "id": "d16a7b2d",
   "metadata": {},
   "outputs": [
    {
     "name": "stdout",
     "output_type": "stream",
     "text": [
      "[[1. 0. 0. 0. 0.]\n",
      " [0. 1. 0. 0. 0.]\n",
      " [0. 0. 1. 0. 0.]\n",
      " [0. 0. 0. 1. 0.]]\n"
     ]
    },
    {
     "data": {
      "text/plain": [
       "array([0., 1.])"
      ]
     },
     "execution_count": 19,
     "metadata": {},
     "output_type": "execute_result"
    }
   ],
   "source": [
    "a = np.eye(4, 5)\n",
    "print(a)\n",
    "a[[0, 3], [1, 3]]"
   ]
  }
 ],
 "metadata": {
  "kernelspec": {
   "display_name": "Python 3 (ipykernel)",
   "language": "python",
   "name": "python3"
  },
  "language_info": {
   "codemirror_mode": {
    "name": "ipython",
    "version": 3
   },
   "file_extension": ".py",
   "mimetype": "text/x-python",
   "name": "python",
   "nbconvert_exporter": "python",
   "pygments_lexer": "ipython3",
   "version": "3.9.12"
  }
 },
 "nbformat": 4,
 "nbformat_minor": 5
}
