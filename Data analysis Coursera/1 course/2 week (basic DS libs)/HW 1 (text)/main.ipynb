{
 "cells": [
  {
   "cell_type": "code",
   "execution_count": 44,
   "id": "cf5bf8f7",
   "metadata": {},
   "outputs": [],
   "source": [
    "import re\n",
    "import numpy as np\n",
    "from scipy import spatial\n",
    "\n",
    "# считываем слова из файла по предложениям\n",
    "# т.е. words - это список списков, i-ый список -> слова из i-го предложения\n",
    "with open('sentences.txt', 'r') as f:    \n",
    "    words = []\n",
    "    for line in f:\n",
    "        line = line.lower().strip()\n",
    "        line = re.split('[^a-z]', line)  # по-хорошему надо написать '[^a-z\\'']', т.к. apple's для него - apple и s\n",
    "        words.append(line)\n",
    "    \n",
    "# убираем пустые слова (пробелы) из words\n",
    "for i, line in enumerate(words):\n",
    "    words[i] = [j for j in line if j != '']\n",
    "\n",
    "# словарь - слово:сколько раз встречается в тексте\n",
    "text_dict = {}\n",
    "for line in words:\n",
    "    for word in line:\n",
    "        if word not in text_dict.keys():\n",
    "            text_dict[word] = 0\n",
    "        else:\n",
    "            text_dict[word] += 1     \n",
    "            \n",
    "d = len(text_dict)\n",
    "n = len(words)\n",
    "\n",
    "matrix = np.ones((n, d))  \n",
    "\n",
    "for i in range(n):\n",
    "    for j, word in enumerate(text_dict.keys()):\n",
    "        matrix[i][j] = words[i].count(word)\n",
    "  \n",
    "dists = np.ones((n, 2))         \n",
    "                \n",
    "for i in range(n):\n",
    "    dists[i][0] = spatial.distance.cosine(matrix[0, :], matrix[i, :])\n",
    "    dists[i][1] = i\n",
    "    \n",
    "dists = dists[dists[:, 0].argsort()]  # сортировка матрицы по первому столбцу\n",
    "    \n",
    "with open('submission-1.txt', 'w') as f:\n",
    "    f.write(f'{int(dists[1][1])} {int(dists[2][1])}')\n"
   ]
  }
 ],
 "metadata": {
  "kernelspec": {
   "display_name": "Python 3 (ipykernel)",
   "language": "python",
   "name": "python3"
  },
  "language_info": {
   "codemirror_mode": {
    "name": "ipython",
    "version": 3
   },
   "file_extension": ".py",
   "mimetype": "text/x-python",
   "name": "python",
   "nbconvert_exporter": "python",
   "pygments_lexer": "ipython3",
   "version": "3.9.12"
  }
 },
 "nbformat": 4,
 "nbformat_minor": 5
}
